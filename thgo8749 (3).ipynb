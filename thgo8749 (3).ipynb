{
 "cells": [
  {
   "cell_type": "markdown",
   "metadata": {},
   "source": [
    "## RSA - The Project"
   ]
  },
  {
   "cell_type": "markdown",
   "metadata": {},
   "source": [
    "Name: Therese Goshen\n",
    "\n",
    "Moodle Email: thgo8749@colorado.edu\n",
    "\n",
    "Name your file \"cuidentikey\".ipynb  This means YOUR identikey. \n",
    "\n",
    "**Do NOT delete instructions or pre-existing comments in the code.** \n"
   ]
  },
  {
   "cell_type": "markdown",
   "metadata": {},
   "source": [
    "<hr />\n",
    "\n",
    "# Table of Contents/Grading\n",
    "\n",
    "### 0. Overall structure, code comments, and following directions. (5 points)\n",
    "\n",
    "### 1. Introduction  (5 points)\n",
    "\n",
    "### 2. RSA Code Package    (10 points)\n",
    "###### &nbsp;&nbsp;&nbsp;&nbsp;&nbsp;&nbsp; 2.1 Basic tool set\n",
    "###### &nbsp;&nbsp;&nbsp;&nbsp;&nbsp;&nbsp; 2.2 First tool set\n",
    "###### &nbsp;&nbsp;&nbsp;&nbsp;&nbsp;&nbsp; 2.3 Second tool set\n",
    "\n",
    "### 3. RSA More Code  (10 points)\n",
    "\n",
    "###### &nbsp;&nbsp;&nbsp;&nbsp;&nbsp;&nbsp;  Encode\n",
    "###### &nbsp;&nbsp;&nbsp;&nbsp;&nbsp;&nbsp;  Decode\n",
    "\n",
    "### 4. Create a demo of encoding and decoding a message that highlights how your code works and the steps involved.   (10 points)\n",
    "\n",
    "### 5. Results of exchanging codes with others.  (5 points)\n",
    "\n",
    "### 6. Narrative (25 points)\n",
    "\n",
    "### 7. Why FME?  (5 points)\n",
    "\n",
    "### 8. How to break codes  (5 points)\n",
    "\n",
    "### 9. Code breaking complete examples  (5 points)\n",
    "\n",
    "### 10. Custom code feature / Advanced options  (15 points) \n"
   ]
  },
  {
   "cell_type": "markdown",
   "metadata": {},
   "source": []
  },
  {
   "cell_type": "markdown",
   "metadata": {},
   "source": []
  },
  {
   "cell_type": "markdown",
   "metadata": {},
   "source": []
  },
  {
   "cell_type": "markdown",
   "metadata": {},
   "source": [
    "\n",
    "\n",
    "\n",
    "\n",
    "\n"
   ]
  },
  {
   "cell_type": "markdown",
   "metadata": {},
   "source": [
    "\n",
    "\n",
    "\n",
    "\n",
    "\n",
    "\n",
    "### 1. Introduction to your RSA Package and Project.  Give an overview of your project and what you have learned. "
   ]
  },
  {
   "cell_type": "markdown",
   "metadata": {},
   "source": [
    "\n"
   ]
  },
  {
   "cell_type": "markdown",
   "metadata": {},
   "source": [
    "### 2.1\n",
    "#### Basic tool set\n",
    "\n",
    "These are functions that you'll need to pre-process the messages before the messages are encoded and decoded by the RSA algorithm. That is the reason we will be defining them first.\n",
    "\n"
   ]
  },
  {
   "cell_type": "code",
   "execution_count": 23,
   "metadata": {},
   "outputs": [],
   "source": [
    "def Convert_Text(_string):\n",
    "    \"\"\"\n",
    "    Do the opposite of what you did in the Convert_Text\n",
    "    function defined above.\n",
    "    \n",
    "    Define this function such that it takes in a list of integers\n",
    "    and outputs the corresponding string (ascii).\n",
    "    \n",
    "    For example:\n",
    "    _list = [104, 101, 108, 108, 111]\n",
    "    _string = hello\n",
    "    \"\"\"\n",
    "    integer_list = [ord(char) for char in _string] #using the function 'ord' to convert into ASCII and put in a list\n",
    "    return integer_list\n"
   ]
  },
  {
   "cell_type": "code",
   "execution_count": 24,
   "metadata": {},
   "outputs": [],
   "source": [
    "def Convert_Num(_list):\n",
    "    \"\"\"\n",
    "    Do the opposite of what you did in the Convert_Text\n",
    "    function defined above.\n",
    "    \n",
    "    Define this function such that it takes in a list of integers\n",
    "    and outputs the corresponding string (ascii).\n",
    "    \n",
    "    For example:\n",
    "    _list = [104, 101, 108, 108, 111]\n",
    "    _string = hello\n",
    "    \"\"\"\n",
    "    # Initialize an empty string to store the resulting characters\n",
    "    _string = ''\n",
    "\n",
    "    # Iterate through the list of integers\n",
    "    for num in _list:\n",
    "        # Use the chr function to convert the integer to a character\n",
    "        char = chr(num)\n",
    "        # Append the character to the result string\n",
    "        _string += char\n",
    "\n",
    "    return _string\n"
   ]
  },
  {
   "cell_type": "code",
   "execution_count": 25,
   "metadata": {},
   "outputs": [],
   "source": [
    "def Convert_Binary_String(_int):\n",
    "    \"\"\"\n",
    "    Here, you need to define a function that converts an integer to\n",
    "    a string of its binary expansion.\n",
    "    \n",
    "    For example:\n",
    "    _int = 345\n",
    "    bits = 101011001\n",
    "    \"\"\"\n",
    "    bits = bin(_int)[2:]\n",
    "    return bits"
   ]
  },
  {
   "cell_type": "markdown",
   "metadata": {},
   "source": [
    "Now that you're done with the basic toolset we'll move on to the first tool set which is actually involved in the RSA system."
   ]
  },
  {
   "cell_type": "markdown",
   "metadata": {},
   "source": [
    "### 2.2 \n",
    "#### First tool set.\n",
    "\n"
   ]
  },
  {
   "cell_type": "code",
   "execution_count": 26,
   "metadata": {},
   "outputs": [],
   "source": [
    "def FME(b, n, m):\n",
    "    \"\"\"\n",
    "    1. Using the fast modular exponentiation algorithm,\n",
    "    the below function should return b**n mod m.\n",
    "    As described on page 254. (however, you may input the exponent and \n",
    "    then convert it to a string - the book verison imports the binary expansion)  \n",
    "    2. You should use the function defined above Convert_Binary_String() if using the book algorithm.\n",
    "    3. For this block you MUST use one of the 3 methods offered in the Mastery Workbook.\n",
    "    4. Any method using bit-shifting or copied from the internet (even changing varibale names) will result in a 0.\n",
    "    5. **If you are completely stuck, you may use pow() with a 10pt penalty.**\n",
    "    \n",
    "\n",
    "    You may use the function you developed in your Mastery Workbook - but be sure it is your own\n",
    "    work, commented, etc. and change inputs as needed.\n",
    "    \"\"\"  \n",
    "    x = 1\n",
    "    power = b % m\n",
    "    Convert_Binary_String(n)\n",
    "    while n > 0: #loop through the bits of the exponent\n",
    "        k = n % 2 #extracting the least significant bit\n",
    "        if k == 1: \n",
    "            #we only want that bits that are equal to 1\n",
    "            x = (x * power) % m\n",
    "        power= (power*power)%m\n",
    "        n //= 2 \n",
    "    return x\n",
    "    "
   ]
  },
  {
   "cell_type": "code",
   "execution_count": 27,
   "metadata": {},
   "outputs": [],
   "source": [
    "def Euclidean_Alg(a, b):\n",
    "    \"\"\"\n",
    "    1. Calculate the Greatest Common Divisor of a and b.\n",
    "    \n",
    "    2. This version should have only postive inputs and outputs.\n",
    "    \n",
    "    3. The function must return a single integer ('x') which is\n",
    "    the gcd of a and b.\n",
    "    \n",
    "    \n",
    "    \"\"\"\n",
    "    a_o = a\n",
    "    b_o = b\n",
    "    # save the inital values of a and b\n",
    "    #initialize values for (s_1,t_1) and (s_2,t_2)\n",
    "    (s_1, t_1) = (1,0)\n",
    "    (s_2, t_2) = (0,1)\n",
    "    \n",
    "    while (b > 0):\n",
    "        #create k and q from quotent and remainder\n",
    "        k = a % b\n",
    "        q = a // b\n",
    "        \n",
    "        #update the values of a mod b\n",
    "        a = b\n",
    "        b = k\n",
    "        \n",
    "        #temporarily store the new values of s_1,t_1,s_2,t_2 to not interfer with the calculations\n",
    "        (s_1_hat, t_1_hat) = (s_1, t_1)\n",
    "        (s_2_hat,t_2_hat) = (s_1-q*s_2, t_1-q*t_2)\n",
    "        \n",
    "        #update the values of s_1,t_1,s_2,t_2\n",
    "        (s_1, t_1) = (s_1_hat, t_1_hat)\n",
    "        (s_2, t_2) = (s_2_hat, t_2_hat)\n",
    "    \n",
    "    #return the gcd \n",
    "    return a "
   ]
  },
  {
   "cell_type": "code",
   "execution_count": 28,
   "metadata": {},
   "outputs": [
    {
     "name": "stdout",
     "output_type": "stream",
     "text": [
      "hello\n"
     ]
    }
   ],
   "source": [
    "print(\"hello\")"
   ]
  },
  {
   "cell_type": "markdown",
   "metadata": {},
   "source": [
    "### 2.3\n",
    "#### Second tool set\n",
    "\n",
    "Here we will implement the core of the RSA cryptosystem. The functions below will generate the public and private key pairs which will then be used to create a ciphertext using the public key and then decode the same using the pirvate key.\n",
    "\n"
   ]
  },
  {
   "cell_type": "code",
   "execution_count": 29,
   "metadata": {},
   "outputs": [],
   "source": [
    "def Find_Public_Key_e(p, q):\n",
    "    \"\"\"\n",
    "    Implement this function such that\n",
    "    it takes 2 primes p and q.\n",
    "    \n",
    "    Use the gcd function that you have \n",
    "    defined before.\n",
    "    \n",
    "    The function should return 2 elements as follows:\n",
    "    public key: n\n",
    "    public key: e\n",
    "    \n",
    "    HINT: this function will run a loop to find e such \n",
    "    that e is relatively prime to (p - 1) (q - 1) \n",
    "    and not equal to p or q.\n",
    "    \n",
    "    NOTE: There are a number of ways to implement this key feature. \n",
    "    You, as the coder, can choose to how to acheive this goal.\n",
    "    \n",
    "    \"\"\"\n",
    "    import random #importing to help find a random number for e\n",
    "    #find n which will be prime\n",
    "    n = p * q\n",
    "    #create the number that e must be relatively prime or RP with\n",
    "    relative = (p - 1)*(q - 1)\n",
    "    while True:\n",
    "        #creating a loop that will find an e that is RP to relative\n",
    "        e = random.randint(2, relative - 1)\n",
    "        if Euclidean_Alg(e, relative) == 1 and e != p and e != q:\n",
    "            break\n",
    "        \n",
    "    return n, e\n",
    "    "
   ]
  },
  {
   "cell_type": "code",
   "execution_count": 30,
   "metadata": {},
   "outputs": [],
   "source": [
    "def Find_Private_Key_d(e, p, q):\n",
    "    \"\"\"\n",
    "    Implement this function to find the decryption exponent d, \n",
    "    such that d is the modular inverse of e. \n",
    "    \n",
    "    This will use the Extended Euclidean Algorithm\n",
    "    \n",
    "    This function should return the following:\n",
    "    d: the decryption component.\n",
    "    \n",
    "    This is not a single action, and there are multiple methods to create this. \n",
    "    \n",
    "    You may create a helper function or have all code within this function.\n",
    "    \n",
    "    Plan ahead before coding this.\n",
    "\n",
    "    \"\"\"\n",
    "    n = p*q \n",
    "    relative = (p - 1)*(q - 1)\n",
    "    \n",
    "    def modular_inverse(a, m):\n",
    "        gcd = Euclidean_Alg(a, m)\n",
    "\n",
    "\n",
    "        # Now, we need to find the 'x' value such that (a * x) % m == 1\n",
    "        x = 0\n",
    "        for i in range(1, m):\n",
    "            if (a * i) % m == 1:\n",
    "                x = i\n",
    "                break\n",
    "\n",
    "        return x\n",
    "        \n",
    "    d = modular_inverse(e, relative)\n",
    "    return d\n",
    "        "
   ]
  },
  {
   "cell_type": "markdown",
   "metadata": {},
   "source": [
    "### 3.\n",
    "#### Putting things all together.\n",
    "\n",
    "1. In this part, you will define two functions `Encode` and `Decode` which will use the public and private keys that you calculated using the above 2 functions in the second toolset.\n",
    "2. Using the public key, the `Encode` function will encode a message and generate the corresponding cipher_text.\n",
    "3. Using the private key, the `Decode` function will decode a ciper_text and recover the original message.\n",
    "\n"
   ]
  },
  {
   "cell_type": "code",
   "execution_count": 31,
   "metadata": {},
   "outputs": [],
   "source": [
    "def Encode(n, e, message):\n",
    "    \"\"\"\n",
    "    Here, the message will be a string of characters.\n",
    "    Use the function Convert_Text from \n",
    "    the basic tool set and get a list of numbers.\n",
    "    \n",
    "    Encode each of these numbers using n and e and\n",
    "    return the encoded cipher_text.\n",
    "    \"\"\"\n",
    "\n",
    "    converted = Convert_Text(message)\n",
    "    #print(\"This is the converted message:\", converted)\n",
    "    cipher_text = []\n",
    "    \n",
    "    for num in converted:\n",
    "        #print(\"This is the start of the endcoding loop:\",num)\n",
    "        encoded = FME(num, e, n)\n",
    "        #print(\"This is the encoded message\", encoded)\n",
    "        cipher_text.append(encoded)\n",
    "    return cipher_text\n",
    "    \n",
    "  "
   ]
  },
  {
   "cell_type": "code",
   "execution_count": 32,
   "metadata": {},
   "outputs": [],
   "source": [
    "def Decode(n, d, cipher_text):\n",
    "    \"\"\"\n",
    "    Here, the cipher_text will be a list of integers.\n",
    "    First, you will decrypt each of those integers using \n",
    "    n and d.\n",
    "    \n",
    "    Later, you will need to use the function Convert_Num from the \n",
    "    basic toolset to recover the original message as a string. \n",
    "    \"\"\"\n",
    "    \n",
    "    message = ''\n",
    "    for num in cipher_text:\n",
    "        decoded = FME(num,d,n)\n",
    "        letters = Convert_Num([decoded])\n",
    "        #print(\"This is the letter from the number:\", letters)\n",
    "        message += letters\n",
    "        \n",
    "    \n",
    " \n",
    "    return message\n",
    "\n",
    "    message = []\n",
    "    \"\"\"\n",
    "    for num in cipher_text:\n",
    "        # Decrypt each integer using FME\n",
    "        decoded = FME(num, d, n)\n",
    "        message.append(decoded)\n",
    "\n",
    "    # Convert the list of decrypted integers to a string\n",
    "    decoded_message = ''.join([chr(char) for char in message])\n",
    "\n",
    "    return decoded_message\n",
    "    \"\"\""
   ]
  },
  {
   "cell_type": "code",
   "execution_count": 33,
   "metadata": {},
   "outputs": [
    {
     "name": "stdout",
     "output_type": "stream",
     "text": [
      "11752703 7966313\n",
      "48857\n"
     ]
    }
   ],
   "source": [
    "n, e = Find_Public_Key_e(3271,3593)\n",
    "print(n,e)\n",
    "d = Find_Private_Key_d(e,3271,3593)\n",
    "print(d)"
   ]
  },
  {
   "cell_type": "markdown",
   "metadata": {
    "tags": []
   },
   "source": [
    "### 4.  Create a Demo \n",
    "This is a **step-by-step** guide to using your code with a specific example that we can follow using the functions you have created above in a mix of code and text blocks. \n",
    "\n",
    "**This is essentially a test that demonstates that your code works and how it works. You will call the functions above. You are not using a main function or custom feature here - just calling the functions.**\n",
    "\n",
    "Imagine you are showing me how you code works in person. \n",
    "Your function calls show how it works with an example.\n",
    "You text s what you would say to me.\n",
    "\n",
    "It is mix of code blocks and **text blocks** and must discuss all three parts of the project for full credit. You must **show and explain your method and demonstrate (by calling your function as an example.** for generating keys and how your encoding and decoding functions work. \n",
    "\n",
    "\n",
    "* Generate keys. \n",
    "\n",
    "* Encode a message.\n",
    "\n",
    "* Decode the same message. \n"
   ]
  },
  {
   "cell_type": "markdown",
   "metadata": {},
   "source": [
    "### 5. Code Exchange\n",
    "Now that your code is working and you are able read and write message, include 3 complete examples of exhanging code from Piazza here. Put BOTH the code and solutions here. "
   ]
  },
  {
   "cell_type": "markdown",
   "metadata": {},
   "source": [
    "1. The first decoded message:\n",
    "\n",
    "cipher:  [2128, 1150, 4250, 1349, 1262, 3336, 2371, 2497, 519, 1262, 1263, 1105, 3336, 1349, 1262, 2310, 1105, 3336, 4115, 762, 2405, 1263, 1105, 3336, 1262, 1349, 1150, 1105, 1262, 506, 1105, 1105, 4723, 2405, 2497, 519, 1262, 1974, 2371, 58, 1262, 519, 1105, 1349, 1262, 4839, 1150, 1105, 2497, 1262, 1974, 2371, 58, 762, 1262, 13, 4679, 1573, 1262, 4115, 2371, 2310, 1105, 1262, 2405, 3336, 1262, 4839, 2371, 762, 1560, 2405, 2497, 519, 3250]\n",
    "\n",
    "Decoded:\n",
    "'What song best describes the feeling you get when your RSA code is working?'\n"
   ]
  },
  {
   "cell_type": "code",
   "execution_count": 34,
   "metadata": {},
   "outputs": [
    {
     "data": {
      "text/plain": [
       "'What song best describes the feeling you get when your RSA code is working?'"
      ]
     },
     "execution_count": 34,
     "metadata": {},
     "output_type": "execute_result"
    }
   ],
   "source": [
    "Decode(5251,3403, [2128, 1150, 4250, 1349, 1262, 3336, 2371, 2497, 519, 1262, 1263, 1105, 3336, 1349, 1262, 2310, 1105, 3336, 4115, 762, 2405, 1263, 1105, 3336, 1262, 1349, 1150, 1105, 1262, 506, 1105, 1105, 4723, 2405, 2497, 519, 1262, 1974, 2371, 58, 1262, 519, 1105, 1349, 1262, 4839, 1150, 1105, 2497, 1262, 1974, 2371, 58, 762, 1262, 13, 4679, 1573, 1262, 4115, 2371, 2310, 1105, 1262, 2405, 3336, 1262, 4839, 2371, 762, 1560, 2405, 2497, 519, 3250])"
   ]
  },
  {
   "cell_type": "code",
   "execution_count": 35,
   "metadata": {},
   "outputs": [
    {
     "name": "stdout",
     "output_type": "stream",
     "text": [
      "[443, 1262, 1349, 1150, 2405, 2497, 1560, 1262, 1349, 1150, 1105, 1262, 4250, 1262, 3336, 2371, 2497, 519, 1262, 1349, 1150, 4250, 1349, 1262, 2310, 2405, 3336, 4115, 762, 2405, 1263, 1105, 3336, 1262, 1349, 1150, 1105, 1262, 506, 1105, 1105, 4723, 2405, 2497, 519, 1262, 2371, 506, 1262, 519, 1105, 1349, 1349, 2405, 2497, 519, 1262, 3283, 1974, 1262, 4115, 2371, 2310, 1105, 1262, 1349, 2371, 1262, 4839, 2371, 762, 1560, 1262, 2405, 3336, 1262, 1558, 2128, 1150, 2371, 1262, 13, 58, 2497, 1262, 1349, 1150, 1105, 1262, 2128, 2371, 762, 4723, 2310, 1558, 1262, 1263, 1974, 1262, 3942, 1105, 1974, 2371, 2497, 4115, 1105, 1262, 1263, 1105, 4115, 4250, 58, 3336, 1105, 1262, 443, 1262, 506, 1105, 1105, 4723, 1262, 3336, 2371, 1262, 1105, 3283, 2911, 2371, 4839, 1105, 762, 1105, 2310, 1262, 4250, 2497, 2310, 1262, 2911, 58, 3283, 2911, 1105, 2310, 1262, 58, 2911, 4431, 1262, 4592, 1150, 2405, 3336, 1262, 2911, 762, 2371, 4290, 1105, 4115, 1349, 1262, 1150, 4250, 3336, 1262, 1263, 1105, 1105, 2497, 1262, 3336, 2371, 1262, 762, 1105, 4839, 4250, 762, 2310, 2405, 2497, 519, 1262, 506, 2371, 762, 1262, 3283, 1105, 1262, 4250, 2497, 2310, 1262, 2405, 1349, 1262, 2405, 3336, 1262, 3283, 4250, 1560, 2405, 2497, 519, 1262, 3283, 1105, 1262, 506, 4250, 4723, 4723, 1262, 2405, 2497, 1262, 4723, 2371, 4720, 1105, 1262, 4839, 2405, 1349, 1150, 1262, 4115, 2371, 2310, 2405, 2497, 519, 4431]\n"
     ]
    }
   ],
   "source": [
    "p = Encode(5251,3, \"I think the a song that discribes the feeling of getting my code to work is 'Who Run the World' by Beyonce because I feel so empowered and pumped up! This project has been so rewarding for me and it is making me fall in love with coding!\")\n",
    "print(p)"
   ]
  },
  {
   "cell_type": "code",
   "execution_count": 36,
   "metadata": {},
   "outputs": [
    {
     "name": "stdout",
     "output_type": "stream",
     "text": [
      "I think the a song that discribes the feeling of getting my code to work is 'Who Run the World' by Beyonce because I feel so empowered and pumped up! This project has been so rewarding for me and it is making me fall in love with coding!\n"
     ]
    }
   ],
   "source": [
    "response = Decode(5251,3403,[443, 1262, 1349, 1150, 2405, 2497, 1560, 1262, 1349, 1150, 1105, 1262, 4250, 1262, 3336, 2371, 2497, 519, 1262, 1349, 1150, 4250, 1349, 1262, 2310, 2405, 3336, 4115, 762, 2405, 1263, 1105, 3336, 1262, 1349, 1150, 1105, 1262, 506, 1105, 1105, 4723, 2405, 2497, 519, 1262, 2371, 506, 1262, 519, 1105, 1349, 1349, 2405, 2497, 519, 1262, 3283, 1974, 1262, 4115, 2371, 2310, 1105, 1262, 1349, 2371, 1262, 4839, 2371, 762, 1560, 1262, 2405, 3336, 1262, 1558, 2128, 1150, 2371, 1262, 13, 58, 2497, 1262, 1349, 1150, 1105, 1262, 2128, 2371, 762, 4723, 2310, 1558, 1262, 1263, 1974, 1262, 3942, 1105, 1974, 2371, 2497, 4115, 1105, 1262, 1263, 1105, 4115, 4250, 58, 3336, 1105, 1262, 443, 1262, 506, 1105, 1105, 4723, 1262, 3336, 2371, 1262, 1105, 3283, 2911, 2371, 4839, 1105, 762, 1105, 2310, 1262, 4250, 2497, 2310, 1262, 2911, 58, 3283, 2911, 1105, 2310, 1262, 58, 2911, 4431, 1262, 4592, 1150, 2405, 3336, 1262, 2911, 762, 2371, 4290, 1105, 4115, 1349, 1262, 1150, 4250, 3336, 1262, 1263, 1105, 1105, 2497, 1262, 3336, 2371, 1262, 762, 1105, 4839, 4250, 762, 2310, 2405, 2497, 519, 1262, 506, 2371, 762, 1262, 3283, 1105, 1262, 4250, 2497, 2310, 1262, 2405, 1349, 1262, 2405, 3336, 1262, 3283, 4250, 1560, 2405, 2497, 519, 1262, 3283, 1105, 1262, 506, 4250, 4723, 4723, 1262, 2405, 2497, 1262, 4723, 2371, 4720, 1105, 1262, 4839, 2405, 1349, 1150, 1262, 4115, 2371, 2310, 2405, 2497, 519, 4431])\n",
    "print(response)"
   ]
  },
  {
   "cell_type": "markdown",
   "metadata": {},
   "source": [
    "2. My own post on Piazza"
   ]
  },
  {
   "cell_type": "code",
   "execution_count": 37,
   "metadata": {},
   "outputs": [
    {
     "name": "stdout",
     "output_type": "stream",
     "text": [
      "10403 7517\n",
      "6653\n"
     ]
    }
   ],
   "source": [
    "n, e = Find_Public_Key_e(101,103)\n",
    "print(n,e)\n",
    "d = Find_Private_Key_d(e,101,103)\n",
    "print(d)"
   ]
  },
  {
   "cell_type": "markdown",
   "metadata": {},
   "source": [
    " n,e = 11752703, 4731007     #Public key              \n",
    " n,d = 11752703, 8566543     #Private key"
   ]
  },
  {
   "cell_type": "code",
   "execution_count": 38,
   "metadata": {},
   "outputs": [
    {
     "name": "stdout",
     "output_type": "stream",
     "text": [
      "[7725480, 10707222, 9673775, 2146801, 7725480, 38621, 4391958, 9205403, 4630657, 2146801, 554299, 757446, 9967748, 2146801, 3693423, 3690565, 10707222, 2146801, 3278188, 9673775, 3690565, 7706521, 2146801, 9205403, 69655, 38621, 9205403, 2146801, 9205403, 69655, 7756941, 2146801, 69655, 3693423, 3690565, 757446, 9967748, 2146801, 10424359, 3690565, 9673775, 7756941, 4968955, 2146801, 38621, 474365, 3205609, 3690565, 2146801, 4391958, 38621, 474365, 474365, 7756941, 9967748, 2146801, 11292461, 3647091, 474365, 3690565, 38621, 9205403, 757446, 9673775, 9619334, 2146801, 10424359, 3690565, 9673775, 7756941, 4968955, 11292461, 2146801, 757446, 3205609, 2146801, 9205403, 69655, 7756941, 2146801, 3690565, 9673775, 474365, 3693423, 2146801, 10424359, 3690565, 9673775, 7756941, 2146801, 757446, 9673775, 2146801, 3693423, 3690565, 10707222, 5395171, 2146801, 10424359, 3690565, 9967748, 3693423, 2146801, 9205403, 69655, 38621, 9205403, 2146801, 757446, 3205609, 2146801, 9673775, 3690565, 9205403, 2146801, 4391958, 3690565, 9673775, 9673775, 7756941, 4391958, 9205403, 7756941, 9967748, 2146801, 9205403, 3690565, 2146801, 38621, 9673775, 3693423, 2146801, 3690565, 3647091, 2146801, 9205403, 69655, 7756941, 2146801, 3690565, 9205403, 69655, 7756941, 5395171, 3205609, 9181893]\n"
     ]
    }
   ],
   "source": [
    "en = Encode(11752703, 4731007, \"Fun Fact: Did you know that the hyoid bone, also called 'floating bone,' is the only bone in your body that is not connected to any of the others!\")\n",
    "print(en)"
   ]
  },
  {
   "cell_type": "code",
   "execution_count": 39,
   "metadata": {},
   "outputs": [
    {
     "name": "stdout",
     "output_type": "stream",
     "text": [
      "Fun Fact: Did you know that the hyoid bone, also called 'floating bone,' is the only bone in your body that is not connected to any of the others!\n"
     ]
    }
   ],
   "source": [
    "de = Decode(11752703, 8566543, [7725480, 10707222, 9673775, 2146801, 7725480, 38621, 4391958, 9205403, 4630657, 2146801, 554299, 757446, 9967748, 2146801, 3693423, 3690565, 10707222, 2146801, 3278188, 9673775, 3690565, 7706521, 2146801, 9205403, 69655, 38621, 9205403, 2146801, 9205403, 69655, 7756941, 2146801, 69655, 3693423, 3690565, 757446, 9967748, 2146801, 10424359, 3690565, 9673775, 7756941, 4968955, 2146801, 38621, 474365, 3205609, 3690565, 2146801, 4391958, 38621, 474365, 474365, 7756941, 9967748, 2146801, 11292461, 3647091, 474365, 3690565, 38621, 9205403, 757446, 9673775, 9619334, 2146801, 10424359, 3690565, 9673775, 7756941, 4968955, 11292461, 2146801, 757446, 3205609, 2146801, 9205403, 69655, 7756941, 2146801, 3690565, 9673775, 474365, 3693423, 2146801, 10424359, 3690565, 9673775, 7756941, 2146801, 757446, 9673775, 2146801, 3693423, 3690565, 10707222, 5395171, 2146801, 10424359, 3690565, 9967748, 3693423, 2146801, 9205403, 69655, 38621, 9205403, 2146801, 757446, 3205609, 2146801, 9673775, 3690565, 9205403, 2146801, 4391958, 3690565, 9673775, 9673775, 7756941, 4391958, 9205403, 7756941, 9967748, 2146801, 9205403, 3690565, 2146801, 38621, 9673775, 3693423, 2146801, 3690565, 3647091, 2146801, 9205403, 69655, 7756941, 2146801, 3690565, 9205403, 69655, 7756941, 5395171, 3205609, 9181893])\n",
    "print(de)"
   ]
  },
  {
   "cell_type": "markdown",
   "metadata": {},
   "source": [
    "3. Decoding and Reponding to someone on Piazza"
   ]
  },
  {
   "cell_type": "code",
   "execution_count": 40,
   "metadata": {},
   "outputs": [
    {
     "name": "stdout",
     "output_type": "stream",
     "text": [
      "Who is your favorite Animal Crossing villager?\n"
     ]
    }
   ],
   "source": [
    "de = Decode(5917, 4937, [5081, 1373, 3893, 2663, 2320, 2213, 2663, 3598, 3893, 3641, 3196, 2663, 2248, 1164, 3560, 3893, 3196, 2320, 2649, 5766, 2663, 344, 4254, 2320, 3674, 1164, 2331, 2663, 1377, 3196, 3893, 2213, 2213, 2320, 4254, 2150, 2663, 3560, 2320, 2331, 2331, 1164, 2150, 5766, 3196, 2979])\n",
    "print(de)"
   ]
  },
  {
   "cell_type": "code",
   "execution_count": 41,
   "metadata": {},
   "outputs": [
    {
     "name": "stdout",
     "output_type": "stream",
     "text": [
      "[4022, 3598, 2663, 2248, 1164, 3560, 3893, 3196, 2320, 2649, 5766, 2663, 344, 4254, 2320, 3674, 1164, 2331, 2663, 1377, 3196, 3893, 2213, 2213, 2320, 4254, 2150, 2663, 4265, 2320, 2331, 2331, 1164, 2150, 5766, 3196, 2663, 2320, 2213, 2663, 2764, 3893, 3881, 4689]\n"
     ]
    }
   ],
   "source": [
    "en = Encode(5917, 5753, \"My favorite Animal Crossing Villager is Bob!\")\n",
    "print(en)"
   ]
  },
  {
   "cell_type": "code",
   "execution_count": 42,
   "metadata": {},
   "outputs": [
    {
     "name": "stdout",
     "output_type": "stream",
     "text": [
      "My favorite Animal Crossing Villager is Bob!\n"
     ]
    }
   ],
   "source": [
    "check = Decode(5917, 4937, [4022, 3598, 2663, 2248, 1164, 3560, 3893, 3196, 2320, 2649, 5766, 2663, 344, 4254, 2320, 3674, 1164, 2331, 2663, 1377, 3196, 3893, 2213, 2213, 2320, 4254, 2150, 2663, 4265, 2320, 2331, 2331, 1164, 2150, 5766, 3196, 2663, 2320, 2213, 2663, 2764, 3893, 3881, 4689])\n",
    "print(check)"
   ]
  },
  {
   "cell_type": "markdown",
   "metadata": {},
   "source": [
    "### 6. Write a Narrative (TWO pages of meaningful narrative about your process - not including the examples - about 800 words) here in this block.\n",
    "\n",
    "* Describe your process. Did you plan ahead? Did you wing it? Do you wish you'd planned ahead more?\n",
    "\n",
    "* Describe the results of exchanging keys and codes with classmates. Did it work the first time or did you need to make adjustments.Describe your process. Did you plan ahead? Did you wing it? Do you wish you'd planned ahead more?\n",
    "\n",
    "* What was most challenging? \n",
    "\n",
    "* Who helped you with your project?  Which resources were most helpful?\n",
    "\n",
    "* What was your Best Mistake? (funniest? most frustrating? the one you learned the most from?)\n",
    "\n",
    "\n"
   ]
  },
  {
   "cell_type": "markdown",
   "metadata": {},
   "source": [
    "My process for this project was to first make work through and make the functions work. This took me a while, and I had to rewatch a couple of the lecture videos to understand how to implement the code. At times, it was quite frustrating having to debug or translate the pseudocode. For example, it took me longer than I expected to create the FME function as I forgot that there may have been an infinite loop. Something I wish I had done was fully master and understand the content before starting on the project. I think I would have saved a lot of time by not having to rewatch the lectures. \n",
    "\n",
    "When I finally got my Decode() and Encode() to work, it was one of the most rewarding processes I have felt. It made me feel so accomplished and I loved the feeling that I could follow the steps on my own. Since I do not come from as diverse a background in math as other students, I hoped that I may be able to understand or figure out this project. I do think that some of the topics of RSA algorithms took a long time to wrap my head around. However, writing this program helped me understand how the algorithm worked and why certain numbers needed to be in certain places. \n",
    "\n",
    "Exchanging keys with classmates was the most entertaining part of this whole project. I think that it allowed me to understand that these concepts can be applied to the 'real world' and that they work. The first time I was decoding my messages, the decode wasn't working. I had to go into each function and use print statements to try and debug and see what went wrong. Something that helped me was asking other students questions and trying to figure out which function went wrong. However, what ended up being the problem was that I picked primes that were way too small! I forgot that the primes needed to be big enough for the modulo to be translated into letters, and I thought choosing small primes would make my first trial a lot easier. When I realized my mistake I felt so silly and yet I felt so rewarded that I could finally encode and decode messages! \n",
    "\n",
    "I think what helped me most with my project was the lecture videos and asking classmates for help. For example, when I was dealing with my Decode() function not working, I asked my classmates what their common errors were when dealing with problems with that function. It was really helpful because many of them tried to steer me in the right direction, with suggestions such as looking to see if my FME function was working properly. I liked their advice as it didn't give me any of the answers and allowed me to figure them out on my own. Another resource I found helpful was Khan Academy and the Python website for Python syntax. Using the Khan Academy from our first week of RSA helped me understand the fundamentals of the algorithm. In the beginning, I was feeling extremely confused with the private and public keys how the formulas worked, or why binary was important. These details began to feel overwhelming, so going back and reviewing the basics was extremely helpful. \n",
    "\n",
    "Something I enjoyed about this project was that I felt like I understood how to use Python and manipulate the syntax to get the result I wanted. The Python website was useful when I forgot how to implement syntax such as .join() or others. I was having a lot of fun debugging and finding solutions to problems. I think this project helped me solidify that I am choosing the right path. I am excited about the prospects of having more coding challenges and learning more fundamentals of computer science! Before starting the project, I was extremely nervous about my ability to understand the content and implement the code. After trial and error on my own, I am feeling confident about my problem-solving abilities and my understanding of the formulas!\n",
    "\n",
    "Something I will take with me for future projects is to start early. Looking over projects, starting to make small functions, or even just trying to estimate how long the project will take are super important factors to a coding project. Although I think I did give myself enough time, I feel like starting even earlier would have given me more time to think through how I wanted to problem solve instead of just going from kernel to the next kernel. I also think that taking moe time and watching all the lectures twice would have helped me understand RSA and primes and how they work. "
   ]
  },
  {
   "cell_type": "markdown",
   "metadata": {},
   "source": [
    "### 7. FME Exploration - (CODE INTERVIEW type question)\n",
    "\n",
    "\n",
    "\n",
    "* Explain in detail why RSA needs to use an FME function and cannot just simply use the Python Mod function % .\n",
    "\n",
    "* Provide some specific examples and/or include chart and graphs. \n",
    "\n",
    "* You may use your arguments/work from the Number Theory Mastery Workbook.\n",
    "\n",
    "RSA needs to use a FME function because the modulo function is not sufficient enough in the use of large numbers. Using % on extremely large numbers would be computationally expensive. RSA also involves rasing a message to the public key 'e', which is usually a large exponent. Decryption of this involves raising the messages to another large exponent in the private key 'd'. The modulo operator would require so much computing, while the FME does not as it converts these numbers to binary and saves alot of computing power. Instead of computing the whole number by modulo, the FME can break down the exponentation into smaller parts and use a modulo at each step instead of on a huge number. For example, as 'n' increases, the runtime of modulo grows significantly. However, the runtime of FME does not increase significantly. \n",
    "\n"
   ]
  },
  {
   "cell_type": "markdown",
   "metadata": {},
   "source": [
    "4087 47 #Public \n",
    "4087 499823 #Private"
   ]
  },
  {
   "cell_type": "code",
   "execution_count": 43,
   "metadata": {},
   "outputs": [
    {
     "name": "stdout",
     "output_type": "stream",
     "text": [
      "[3316, 3803, 928, 3061, 2151, 1554, 3803, 1331, 2852, 928, 928, 3061, 1717, 1554, 1554, 4065, 2600]\n"
     ]
    }
   ],
   "source": [
    "l = Encode(4087, 47, 'I love Halloween!')\n",
    "print(l)"
   ]
  },
  {
   "cell_type": "markdown",
   "metadata": {},
   "source": [
    "2.  10403 2383 # Public Key\n",
    "    10403 8047 # Private Key\n"
   ]
  },
  {
   "cell_type": "code",
   "execution_count": 44,
   "metadata": {},
   "outputs": [
    {
     "name": "stdout",
     "output_type": "stream",
     "text": [
      "[5342, 4286, 169, 8703, 8181, 1312, 4286, 3330, 4838, 4286, 8141, 8181, 4286, 6956, 4286, 8141, 6956, 8101, 8093, 8703, 3330, 6956, 367]\n"
     ]
    }
   ],
   "source": [
    "l = Encode(10403,2383,\"I used to be a barista!\")\n",
    "print(l)"
   ]
  },
  {
   "cell_type": "markdown",
   "metadata": {},
   "source": [
    "## CODE BREAKING ##\n",
    "\n",
    "This section of the project is only available to students exchanging codes by the Friday (midnight) before the project is due.\n",
    "\n",
    "After you have tested your RSA package yourself, and tested it with classmates by publishing both the private and public keys on Piazza, post 2 messages with just the public keys for people to break on the \"Just Public Keys\" thread - use both very small n ‘s (under 1000) for practice, and some with a challenge.\n",
    "\n",
    "\n",
    "**Implementing a factoring algorithm:**\n",
    "\n",
    "Begin by coding the basic brute force factorization algorithm given in pseudocode below.\n",
    "\n",
    "Brute Force Factoring\n",
    "<pre><code>def factorize(n):\n",
    "    # n is a number, return the smallest factor of n\n",
    "    for i from 2 to n-1:\n",
    "        if i divides n:\n",
    "            return i\n",
    "        return FALSE\n",
    "        </code></pre>\n"
   ]
  },
  {
   "cell_type": "code",
   "execution_count": 45,
   "metadata": {},
   "outputs": [],
   "source": [
    "def Factorize(n):\n",
    "    for i in range(2, n-1):\n",
    "        if n % i == 0:\n",
    "            return i\n",
    "    return False"
   ]
  },
  {
   "cell_type": "markdown",
   "metadata": {
    "tags": []
   },
   "source": [
    "### 8. How to Break Code. \n",
    "* Explain in detail how breaking works in this text block. \n",
    "* What are the complete steps? What tools do you need?\n",
    "* How secure is RSA? Why is it difficult to break codes in RSA? \n",
    "* Is our implementation of RSA secure? What are it's flaws?\n",
    "\n",
    "\n",
    "Code breaking works by factorizing (with the Factorize(n) function) and finding the smallest factor of 'n' from the public key 'n,e'. When you can factorizing n, you can find the prime 'p'. Using this p, you can find q by dividing the 'n' by the p. Now, we have both p and q. Now, we can use our function \"Find_Private_Key_d(e,p,q)\" with our new values p and q as well as the 'e' from the public key. This function will find the totient ((p-1) * (q-1)) and compute the modular inverse of e modulo totient. We now have found the 'd' for the private key, and we can use it as an exponent to decode the message. Since we have the function \"Decode(n,d, cipher_text)\", we can put our 'n' from the public key, our newly found 'd', and the encrypted message into the function and it will use d as an exponent and n as the modulo to decrypt each part in the message and give us the decoded message. \n",
    "\n",
    "It is difficult to break codes in RSA because it is extremely hard for a computer to find the prime factors of extremely large prime numbers. The security of RSA grows exponentially with larger and larger numbers for 'n'. \n",
    "\n",
    "Our implementation of RSA is not that secure as it was easily broken because we are using much smaller numbers, which are relavtively easy for our computers to factorize. \n",
    "\n",
    "\n",
    "\n",
    "\n"
   ]
  },
  {
   "cell_type": "markdown",
   "metadata": {},
   "source": [
    "### 9. Decode!  Use a mix of text and code blocks\n",
    "\n",
    "* Decode one example from Piazza in detial showing all the steps.\n",
    "* Decode and Respond to 3 \"just codes with public keys\" in Piazza with different sizes of n. Include complete results here.\n",
    "* What did you notice about larger n s?\n"
   ]
  },
  {
   "cell_type": "markdown",
   "metadata": {},
   "source": [
    "With larger n s, I noticed that the d was a much larger number! This would make it a bit more secure than smaller ns! "
   ]
  },
  {
   "cell_type": "markdown",
   "metadata": {},
   "source": [
    "1. First, we must pick a comment to decode with a public key\n",
    "n, e = 4511, 5 #Public Key\n",
    "\n",
    "Cipher = [2901, 1144, 2799, 1614, 4272, 2689, 1667, 2799, 1614, 202, 2689, 2409, 1614, 2092, 1144, 2799, 1614, 1667, 2689, 2689, 2409, 1614, 1210, 1762, 1614, 133, 3419, 3238, 940]\n"
   ]
  },
  {
   "cell_type": "code",
   "execution_count": 85,
   "metadata": {},
   "outputs": [],
   "source": [
    "n = 4511\n",
    "e = 5"
   ]
  },
  {
   "cell_type": "markdown",
   "metadata": {},
   "source": [
    "2. Now, we must use the Factorize function to factorize n and return p"
   ]
  },
  {
   "cell_type": "code",
   "execution_count": 86,
   "metadata": {},
   "outputs": [
    {
     "name": "stdout",
     "output_type": "stream",
     "text": [
      "13\n"
     ]
    }
   ],
   "source": [
    "p = Factorize(4511)\n",
    "print(p)"
   ]
  },
  {
   "cell_type": "markdown",
   "metadata": {},
   "source": [
    "Now we will find q by n//p"
   ]
  },
  {
   "cell_type": "code",
   "execution_count": 89,
   "metadata": {},
   "outputs": [
    {
     "name": "stdout",
     "output_type": "stream",
     "text": [
      "347\n"
     ]
    }
   ],
   "source": [
    "q = n//13\n",
    "print(q)"
   ]
  },
  {
   "cell_type": "markdown",
   "metadata": {},
   "source": [
    "Now, using the find private key function, we will find d"
   ]
  },
  {
   "cell_type": "code",
   "execution_count": 90,
   "metadata": {},
   "outputs": [
    {
     "name": "stdout",
     "output_type": "stream",
     "text": [
      "1661\n"
     ]
    }
   ],
   "source": [
    "d = Find_Private_Key_d(e,13,347)\n",
    "print(d)"
   ]
  },
  {
   "cell_type": "markdown",
   "metadata": {},
   "source": [
    "\n",
    "\n",
    "\n"
   ]
  },
  {
   "cell_type": "markdown",
   "metadata": {},
   "source": [
    "3. Now, we will use these as in our Decode function"
   ]
  },
  {
   "cell_type": "code",
   "execution_count": 91,
   "metadata": {},
   "outputs": [
    {
     "data": {
      "text/plain": [
       "'The code for the door is 0451'"
      ]
     },
     "execution_count": 91,
     "metadata": {},
     "output_type": "execute_result"
    }
   ],
   "source": [
    "Decode(4511,1661,[2901, 1144, 2799, 1614, 4272, 2689, 1667, 2799, 1614, 202, 2689, 2409, 1614, 2092, 1144, 2799, 1614, 1667, 2689, 2689, 2409, 1614, 1210, 1762, 1614, 133, 3419, 3238, 940])"
   ]
  },
  {
   "cell_type": "markdown",
   "metadata": {},
   "source": [
    "'The code for the door is 0451' is the cipher!!\n"
   ]
  },
  {
   "cell_type": "code",
   "execution_count": 93,
   "metadata": {},
   "outputs": [
    {
     "name": "stdout",
     "output_type": "stream",
     "text": [
      "[944, 1614, 871, 1762, 2799, 1614, 2092, 1144, 2799, 1614, 4272, 2689, 1667, 2799, 1614, 133, 3419, 3238, 940, 1614, 2092, 2689, 1614, 2689, 4428, 2799, 4487, 1614, 2092, 1144, 2799, 1614, 1667, 2689, 2689, 2409, 2468, 2468]\n"
     ]
    }
   ],
   "source": [
    "l = Encode(4511, 5, \"I use the code 0451 to open the door!!\")\n",
    "print(l)"
   ]
  },
  {
   "cell_type": "markdown",
   "metadata": {},
   "source": [
    "2. Second code to decipher:n, e = 339301, 3         #Public Key\n",
    "\n",
    "Cipher = [18610, 244409, 12398, 163671, 163671, 32768, 327955, 106961, 234071, 203692, 35937, 32768, 49716, 59319, 285828, 12398, 32768, 74824, 10427, 203692, 32768, 234071, 32768, 43305, 12398, 285828, 12398, 124340, 85184, 32768, 234071, 313097, 321398, 32768, 203692, 106961, 12398, 32768, 10427, 313097, 241809, 75056, 32768, 47724, 124340, 12398, 163671, 291697, 124340, 139722, 47724, 203692, 139722, 10427, 313097, 32768, 139722, 163671, 97336, 97336, 97336]"
   ]
  },
  {
   "cell_type": "markdown",
   "metadata": {},
   "source": [
    "Find p by factorizing n"
   ]
  },
  {
   "cell_type": "code",
   "execution_count": 113,
   "metadata": {},
   "outputs": [
    {
     "name": "stdout",
     "output_type": "stream",
     "text": [
      "311\n"
     ]
    }
   ],
   "source": [
    "p = Factorize(339301)\n",
    "print(p)"
   ]
  },
  {
   "cell_type": "markdown",
   "metadata": {},
   "source": [
    "Finding q with n//p"
   ]
  },
  {
   "cell_type": "code",
   "execution_count": 114,
   "metadata": {},
   "outputs": [
    {
     "name": "stdout",
     "output_type": "stream",
     "text": [
      "1091\n"
     ]
    }
   ],
   "source": [
    "q = 339301//p\n",
    "print(q)"
   ]
  },
  {
   "cell_type": "markdown",
   "metadata": {},
   "source": [
    "Now use Find_Private_Key_d(e,p,q)"
   ]
  },
  {
   "cell_type": "code",
   "execution_count": 115,
   "metadata": {},
   "outputs": [
    {
     "data": {
      "text/plain": [
       "225267"
      ]
     },
     "execution_count": 115,
     "metadata": {},
     "output_type": "execute_result"
    }
   ],
   "source": [
    "Find_Private_Key_d(3,p,q)"
   ]
  },
  {
   "cell_type": "code",
   "execution_count": 116,
   "metadata": {},
   "outputs": [
    {
     "data": {
      "text/plain": [
       "\"Guess what! I've got a fever, and the only prescription is...\""
      ]
     },
     "execution_count": 116,
     "metadata": {},
     "output_type": "execute_result"
    }
   ],
   "source": [
    "Decode(339301,225267,[18610, 244409, 12398, 163671, 163671, 32768, 327955, 106961, 234071, 203692, 35937, 32768, 49716, 59319, 285828, 12398, 32768, 74824, 10427, 203692, 32768, 234071, 32768, 43305, 12398, 285828, 12398, 124340, 85184, 32768, 234071, 313097, 321398, 32768, 203692, 106961, 12398, 32768, 10427, 313097, 241809, 75056, 32768, 47724, 124340, 12398, 163671, 291697, 124340, 139722, 47724, 203692, 139722, 10427, 313097, 32768, 139722, 163671, 97336, 97336, 97336])"
   ]
  },
  {
   "cell_type": "markdown",
   "metadata": {},
   "source": [
    "The cipher is: \"Guess what! I've got a fever, and the only prescription is...\""
   ]
  },
  {
   "cell_type": "code",
   "execution_count": 118,
   "metadata": {},
   "outputs": [
    {
     "name": "stdout",
     "output_type": "stream",
     "text": [
      "[274625, 32768, 291697, 244409, 47724, 32768, 10427, 43305, 32768, 291697, 106961, 139722, 291697, 207140, 12398, 313097, 32768, 313097, 10427, 10427, 321398, 241809, 12398, 32768, 163671, 10427, 244409, 47724, 35937]\n"
     ]
    }
   ],
   "source": [
    "l = Encode(339301,3, \"A cup of chicken noodle soup!\")\n",
    "print(l)"
   ]
  },
  {
   "cell_type": "markdown",
   "metadata": {},
   "source": [
    "3. n, e = 7081, 23 #Public Key\n",
    "\n",
    "Cipher = [3586, 4122, 4122, 930, 3887, 3039, 1661, 6732, 275, 6114, 236, 930, 6114, 5278, 3572, 2013, 238, 3039, 930, 6732, 6114, 3834, 930, 930, 5340, 2013, 3887, 6114, 5446, 5892, 1661, 275, 6114, 5892, 873, 6732, 275, 6114, 5781, 3572, 2013, 930, 3887, 5525, 4763, 2145, 6114, 1862, 4589, 6114, 1661, 4823, 6114, 236, 3572, 2013, 6114, 809, 5624, 4823, 236, 6114, 5340, 3887, 1661, 6992, 2013, 6114, 6732, 4919, 6992, 680, 2013, 3887, 2145, 6114, 1661, 236, 4823, 6114, 6992, 1661, 3887, 3887, 930, 3887, 6114, 6732, 4919, 6992, 680, 2013, 3887, 6114, 1661, 4823, 6114, 236, 3572, 2013, 6114, 5624, 809, 236, 3572, 6114, 5340, 3887, 1661, 6992, 2013, 6114, 6732, 4919, 6992, 680, 2013, 3887, 2145, 6114, 6962, 3572, 930, 3084, 4823, 6114, 6992, 1661, 3887, 3887, 930, 3887, 6114, 6732, 4919, 6992, 680, 2013, 3887, 6114, 809, 5624, 6114, 1661, 4823, 6114, 236, 3572, 2013, 6114, 5340, 3887, 930, 3039, 4919, 4122, 236, 6114, 930, 3768, 6114, 1862, 78, 4589, 4626, 6114, 5353, 4919, 3887, 236, 3572, 2013, 3887, 6992, 930, 3887, 2013, 2145, 6114, 1862, 4589, 6114, 1661, 4823, 6114, 5624, 196, 196, 5624, 196, 196, 5624, 6114, 1661, 6732, 6114, 680, 1661, 6732, 873, 3887, 5525, 2145, 6114, 6962, 3572, 1661, 4122, 3572, 6114, 1661, 4823, 6114, 873, 6114, 5340, 873, 238, 1661, 6732, 3039, 3887, 930, 6992, 2013, 4626]"
   ]
  },
  {
   "cell_type": "code",
   "execution_count": 119,
   "metadata": {},
   "outputs": [
    {
     "name": "stdout",
     "output_type": "stream",
     "text": [
      "73\n"
     ]
    }
   ],
   "source": [
    "p = Factorize(7081)\n",
    "print(p)"
   ]
  },
  {
   "cell_type": "code",
   "execution_count": 121,
   "metadata": {},
   "outputs": [
    {
     "name": "stdout",
     "output_type": "stream",
     "text": [
      "97\n"
     ]
    }
   ],
   "source": [
    "q = 7081//p\n",
    "print(q)"
   ]
  },
  {
   "cell_type": "code",
   "execution_count": 122,
   "metadata": {},
   "outputs": [
    {
     "data": {
      "text/plain": [
       "6311"
      ]
     },
     "execution_count": 122,
     "metadata": {},
     "output_type": "execute_result"
    }
   ],
   "source": [
    "Find_Private_Key_d(23,73,97)"
   ]
  },
  {
   "cell_type": "code",
   "execution_count": 123,
   "metadata": {},
   "outputs": [
    {
     "data": {
      "text/plain": [
       "'According to Sheldon Cooper (Big Bang Theory), 73 is the 21st prime number, its mirror number is the 12th prime number, whoѰs mirror number 21 is the product of 7*3. Furthermore, 73 is 1001001 in binary, which is a palindrome.'"
      ]
     },
     "execution_count": 123,
     "metadata": {},
     "output_type": "execute_result"
    }
   ],
   "source": [
    "Decode(7081,6311, [3586, 4122, 4122, 930, 3887, 3039, 1661, 6732, 275, 6114, 236, 930, 6114, 5278, 3572, 2013, 238, 3039, 930, 6732, 6114, 3834, 930, 930, 5340, 2013, 3887, 6114, 5446, 5892, 1661, 275, 6114, 5892, 873, 6732, 275, 6114, 5781, 3572, 2013, 930, 3887, 5525, 4763, 2145, 6114, 1862, 4589, 6114, 1661, 4823, 6114, 236, 3572, 2013, 6114, 809, 5624, 4823, 236, 6114, 5340, 3887, 1661, 6992, 2013, 6114, 6732, 4919, 6992, 680, 2013, 3887, 2145, 6114, 1661, 236, 4823, 6114, 6992, 1661, 3887, 3887, 930, 3887, 6114, 6732, 4919, 6992, 680, 2013, 3887, 6114, 1661, 4823, 6114, 236, 3572, 2013, 6114, 5624, 809, 236, 3572, 6114, 5340, 3887, 1661, 6992, 2013, 6114, 6732, 4919, 6992, 680, 2013, 3887, 2145, 6114, 6962, 3572, 930, 3084, 4823, 6114, 6992, 1661, 3887, 3887, 930, 3887, 6114, 6732, 4919, 6992, 680, 2013, 3887, 6114, 809, 5624, 6114, 1661, 4823, 6114, 236, 3572, 2013, 6114, 5340, 3887, 930, 3039, 4919, 4122, 236, 6114, 930, 3768, 6114, 1862, 78, 4589, 4626, 6114, 5353, 4919, 3887, 236, 3572, 2013, 3887, 6992, 930, 3887, 2013, 2145, 6114, 1862, 4589, 6114, 1661, 4823, 6114, 5624, 196, 196, 5624, 196, 196, 5624, 6114, 1661, 6732, 6114, 680, 1661, 6732, 873, 3887, 5525, 2145, 6114, 6962, 3572, 1661, 4122, 3572, 6114, 1661, 4823, 6114, 873, 6114, 5340, 873, 238, 1661, 6732, 3039, 3887, 930, 6992, 2013, 4626])"
   ]
  },
  {
   "cell_type": "code",
   "execution_count": 125,
   "metadata": {},
   "outputs": [
    {
     "name": "stdout",
     "output_type": "stream",
     "text": [
      "[5781, 3572, 873, 236, 6114, 1661, 4823, 6114, 4823, 4919, 5340, 2013, 3887, 6114, 4122, 930, 930, 238, 6161, 6114, 6007, 3887, 1661, 6992, 2013, 4823, 6114, 873, 3887, 2013, 6114, 4823, 930, 6114, 3768, 873, 4823, 4122, 1661, 6732, 873, 236, 1661, 6732, 275, 6161]\n"
     ]
    }
   ],
   "source": [
    "l = Encode(7081, 23, \"That is super cool! Primes are so fascinating!\")\n",
    "print(l)"
   ]
  },
  {
   "cell_type": "markdown",
   "metadata": {},
   "source": [
    "\n",
    "### 10. Custom CODE Feature ##\n",
    "The custom feature should be a \"Stand Alone\" feature at the end of the notebook. If you want to use code from above, please copy the functions again as part of your feature so it can be tested independently. Be sure to provide a demonstration showing that it works. See RSA Guide for more information and suggestions. \n",
    "\n",
    "**Do not forget the self-grading element.**\n"
   ]
  },
  {
   "cell_type": "code",
   "execution_count": 134,
   "metadata": {},
   "outputs": [],
   "source": [
    "def Convert_Text(_string):\n",
    "    \"\"\"\n",
    "    Do the opposite of what you did in the Convert_Text\n",
    "    function defined above.\n",
    "    \n",
    "    Define this function such that it takes in a list of integers\n",
    "    and outputs the corresponding string (ascii).\n",
    "    \n",
    "    For example:\n",
    "    _list = [104, 101, 108, 108, 111]\n",
    "    _string = hello\n",
    "    \"\"\"\n",
    "    integer_list = [ord(char) for char in _string] #using the function 'ord' to convert into ASCII and put in a list\n",
    "    return integer_list"
   ]
  },
  {
   "cell_type": "code",
   "execution_count": 135,
   "metadata": {},
   "outputs": [],
   "source": [
    "def Convert_Num(_list):\n",
    "    \"\"\"\n",
    "    Do the opposite of what you did in the Convert_Text\n",
    "    function defined above.\n",
    "    \n",
    "    Define this function such that it takes in a list of integers\n",
    "    and outputs the corresponding string (ascii).\n",
    "    \n",
    "    For example:\n",
    "    _list = [104, 101, 108, 108, 111]\n",
    "    _string = hello\n",
    "    \"\"\"\n",
    "    # Initialize an empty string to store the resulting characters\n",
    "    _string = ''\n",
    "\n",
    "    # Iterate through the list of integers\n",
    "    for num in _list:\n",
    "        # Use the chr function to convert the integer to a character\n",
    "        char = chr(num)\n",
    "        # Append the character to the result string\n",
    "        _string += char\n",
    "\n",
    "    return _string"
   ]
  },
  {
   "cell_type": "code",
   "execution_count": 136,
   "metadata": {},
   "outputs": [],
   "source": [
    "def Convert_Binary_String(_int):\n",
    "    \"\"\"\n",
    "    Here, you need to define a function that converts an integer to\n",
    "    a string of its binary expansion.\n",
    "    \n",
    "    For example:\n",
    "    _int = 345\n",
    "    bits = 101011001\n",
    "    \"\"\"\n",
    "    bits = bin(_int)[2:]\n",
    "    return bits"
   ]
  },
  {
   "cell_type": "code",
   "execution_count": 137,
   "metadata": {},
   "outputs": [],
   "source": [
    "def FME(b, n, m):\n",
    "    \"\"\"\n",
    "    1. Using the fast modular exponentiation algorithm,\n",
    "    the below function should return b**n mod m.\n",
    "    As described on page 254. (however, you may input the exponent and \n",
    "    then convert it to a string - the book verison imports the binary expansion)  \n",
    "    2. You should use the function defined above Convert_Binary_String() if using the book algorithm.\n",
    "    3. For this block you MUST use one of the 3 methods offered in the Mastery Workbook.\n",
    "    4. Any method using bit-shifting or copied from the internet (even changing varibale names) will result in a 0.\n",
    "    5. **If you are completely stuck, you may use pow() with a 10pt penalty.**\n",
    "    \n",
    "\n",
    "    You may use the function you developed in your Mastery Workbook - but be sure it is your own\n",
    "    work, commented, etc. and change inputs as needed.\n",
    "    \"\"\"  \n",
    "    x = 1\n",
    "    power = b % m\n",
    "    Convert_Binary_String(n)\n",
    "    while n > 0: #loop through the bits of the exponent\n",
    "        k = n % 2 #extracting the least significant bit\n",
    "        if k == 1: \n",
    "            #we only want that bits that are equal to 1\n",
    "            x = (x * power) % m\n",
    "        power= (power*power)%m\n",
    "        n //= 2 \n",
    "    return x\n",
    "    "
   ]
  },
  {
   "cell_type": "code",
   "execution_count": 138,
   "metadata": {},
   "outputs": [],
   "source": [
    "def Euclidean_Alg(a, b):\n",
    "    \"\"\"\n",
    "    1. Calculate the Greatest Common Divisor of a and b.\n",
    "    \n",
    "    2. This version should have only postive inputs and outputs.\n",
    "    \n",
    "    3. The function must return a single integer ('x') which is\n",
    "    the gcd of a and b.\n",
    "    \n",
    "    \n",
    "    \"\"\"\n",
    "    a_o = a\n",
    "    b_o = b\n",
    "    # save the inital values of a and b\n",
    "    #initialize values for (s_1,t_1) and (s_2,t_2)\n",
    "    (s_1, t_1) = (1,0)\n",
    "    (s_2, t_2) = (0,1)\n",
    "    \n",
    "    while (b > 0):\n",
    "        #create k and q from quotent and remainder\n",
    "        k = a % b\n",
    "        q = a // b\n",
    "        \n",
    "        #update the values of a mod b\n",
    "        a = b\n",
    "        b = k\n",
    "        \n",
    "        #temporarily store the new values of s_1,t_1,s_2,t_2 to not interfer with the calculations\n",
    "        (s_1_hat, t_1_hat) = (s_1, t_1)\n",
    "        (s_2_hat,t_2_hat) = (s_1-q*s_2, t_1-q*t_2)\n",
    "        \n",
    "        #update the values of s_1,t_1,s_2,t_2\n",
    "        (s_1, t_1) = (s_1_hat, t_1_hat)\n",
    "        (s_2, t_2) = (s_2_hat, t_2_hat)\n",
    "    \n",
    "    #return the gcd \n",
    "    return a "
   ]
  },
  {
   "cell_type": "code",
   "execution_count": 139,
   "metadata": {},
   "outputs": [],
   "source": [
    "def Find_Public_Key_e(p, q):\n",
    "    \"\"\"\n",
    "    Implement this function such that\n",
    "    it takes 2 primes p and q.\n",
    "    \n",
    "    Use the gcd function that you have \n",
    "    defined before.\n",
    "    \n",
    "    The function should return 2 elements as follows:\n",
    "    public key: n\n",
    "    public key: e\n",
    "    \n",
    "    HINT: this function will run a loop to find e such \n",
    "    that e is relatively prime to (p - 1) (q - 1) \n",
    "    and not equal to p or q.\n",
    "    \n",
    "    NOTE: There are a number of ways to implement this key feature. \n",
    "    You, as the coder, can choose to how to acheive this goal.\n",
    "    \n",
    "    \"\"\"\n",
    "    import random #importing to help find a random number for e\n",
    "    #find n which will be prime\n",
    "    n = p * q\n",
    "    #create the number that e must be relatively prime or RP with\n",
    "    relative = (p - 1)*(q - 1)\n",
    "    while True:\n",
    "        #creating a loop that will find an e that is RP to relative\n",
    "        e = random.randint(2, relative - 1)\n",
    "        if Euclidean_Alg(e, relative) == 1 and e != p and e != q:\n",
    "            break\n",
    "        \n",
    "    return n, e\n",
    "    "
   ]
  },
  {
   "cell_type": "code",
   "execution_count": 140,
   "metadata": {},
   "outputs": [],
   "source": [
    "def Find_Private_Key_d(e, p, q):\n",
    "    \"\"\"\n",
    "    Implement this function to find the decryption exponent d, \n",
    "    such that d is the modular inverse of e. \n",
    "    \n",
    "    This will use the Extended Euclidean Algorithm\n",
    "    \n",
    "    This function should return the following:\n",
    "    d: the decryption component.\n",
    "    \n",
    "    This is not a single action, and there are multiple methods to create this. \n",
    "    \n",
    "    You may create a helper function or have all code within this function.\n",
    "    \n",
    "    Plan ahead before coding this.\n",
    "\n",
    "    \"\"\"\n",
    "    n = p*q \n",
    "    relative = (p - 1)*(q - 1)\n",
    "    \n",
    "    def modular_inverse(a, m):\n",
    "        gcd = Euclidean_Alg(a, m)\n",
    "\n",
    "\n",
    "        # Now, we need to find the 'x' value such that (a * x) % m == 1\n",
    "        x = 0\n",
    "        for i in range(1, m):\n",
    "            if (a * i) % m == 1:\n",
    "                x = i\n",
    "                break\n",
    "\n",
    "        return x\n",
    "        \n",
    "    d = modular_inverse(e, relative)\n",
    "    return d"
   ]
  },
  {
   "cell_type": "code",
   "execution_count": 141,
   "metadata": {},
   "outputs": [],
   "source": [
    "def Encode(n, e, message):\n",
    "    \"\"\"\n",
    "    Here, the message will be a string of characters.\n",
    "    Use the function Convert_Text from \n",
    "    the basic tool set and get a list of numbers.\n",
    "    \n",
    "    Encode each of these numbers using n and e and\n",
    "    return the encoded cipher_text.\n",
    "    \"\"\"\n",
    "\n",
    "    converted = Convert_Text(message)\n",
    "    #print(\"This is the converted message:\", converted)\n",
    "    cipher_text = []\n",
    "    \n",
    "    for num in converted:\n",
    "        #print(\"This is the start of the endcoding loop:\",num)\n",
    "        encoded = FME(num, e, n)\n",
    "        #print(\"This is the encoded message\", encoded)\n",
    "        cipher_text.append(encoded)\n",
    "    return cipher_text\n",
    "    \n",
    "  "
   ]
  },
  {
   "cell_type": "code",
   "execution_count": 202,
   "metadata": {},
   "outputs": [],
   "source": [
    "def Decode(n, d, cipher_text):\n",
    "    \"\"\"\n",
    "    Here, the cipher_text will be a list of integers.\n",
    "    First, you will decrypt each of those integers using \n",
    "    n and d.\n",
    "    \n",
    "    Later, you will need to use the function Convert_Num from the \n",
    "    basic toolset to recover the original message as a string. \n",
    "    \"\"\"\n",
    "    \n",
    "    message = ''\n",
    "    for num in cipher_text:\n",
    "        decoded = FME(num,d,n)\n",
    "        letters = Convert_Num([decoded])\n",
    "        #print(\"This is the letter from the number:\", letters)\n",
    "        message += letters\n",
    "        \n",
    "    \n",
    " \n",
    "    return message\n",
    "\n",
    "    message = []\n",
    "    \"\"\"\n",
    "    for num in cipher_text:\n",
    "        # Decrypt each integer using FME\n",
    "        decoded = FME(num, d, n)\n",
    "        message.append(decoded)\n",
    "\n",
    "    # Convert the list of decrypted integers to a string\n",
    "    decoded_message = ''.join([chr(char) for char in message])\n",
    "\n",
    "    return decoded_message\n",
    "    \"\"\""
   ]
  },
  {
   "cell_type": "code",
   "execution_count": 197,
   "metadata": {},
   "outputs": [],
   "source": [
    "def findPublicKey():\n",
    "    prime1 = input(\"Please input your first prime number (p)\")\n",
    "    prime2 = input(\"Please input your second and different prime number (q)\")\n",
    "    if int(prime1) == int(prime2):\n",
    "        return print(\"Please select two different and unique prime numbers\")\n",
    "    n,e = Find_Public_Key_e(int(prime1),int(prime2))\n",
    "    print(\"public key found!\\n*******\")\n",
    "    return print(\"n =\", n, \"e = \", e)\n"
   ]
  },
  {
   "cell_type": "code",
   "execution_count": 198,
   "metadata": {},
   "outputs": [],
   "source": [
    "def findPrivateKey():\n",
    "    e = int(input(\"Please input e from public key\"))\n",
    "    p = int(input(\"Please input the first prime (p) from the public key creation\"))\n",
    "    q = int(input(\"Please input the second prime (q) from the public key creation\"))\n",
    "    d = Find_Private_Key_d(e,p,q)\n",
    "    print(\"private key found!\\n*******\")\n",
    "    return print(\"d =\",d)"
   ]
  },
  {
   "cell_type": "code",
   "execution_count": 199,
   "metadata": {},
   "outputs": [],
   "source": [
    "def encodeMessage():\n",
    "    n = int(input(\"Please input n from public key\"))\n",
    "    e = int(input(\"Please input e from public key\"))\n",
    "    message = input(\"Please type the message you wish to encrypt\")\n",
    "    encrypted = Encode(n,e,message)\n",
    "    print(\"message has been encrypted!\\n*******\")\n",
    "    return print(\"Your encoded message is:\", encrypted)"
   ]
  },
  {
   "cell_type": "code",
   "execution_count": 200,
   "metadata": {},
   "outputs": [],
   "source": [
    "def decodeMessage():\n",
    "    n = int(input(\"Please input n from public key\"))\n",
    "    d = int(input(\"Please input d from private key\"))\n",
    "    cipher = input(\"Please copy and paste the encrypted message\")\n",
    "    # make sure ciphers don't have [ or ] in them\n",
    "    cipher = cipher.replace('[', '').replace(']', '')\n",
    "    # turn cipher into a list of integers\n",
    "    cipher = [int(x) for x in cipher.split(',')]\n",
    "    decrypted = Decode(n,d,cipher)\n",
    "    print(\"the message has been decoded!\\n*******\")\n",
    "    return print(\"The decoded message is:\", decrypted)"
   ]
  },
  {
   "cell_type": "code",
   "execution_count": null,
   "metadata": {},
   "outputs": [
    {
     "name": "stdout",
     "output_type": "stream",
     "text": [
      "Welcome to RSA encryption and decryption!\n",
      "Please make yourselection:\n",
      "0 = nothing\n",
      "1 = find public key\n",
      "2 = find private key\n",
      "3 = encode message\n",
      "4 = decode message\n",
      "9 = quit\n"
     ]
    },
    {
     "name": "stdin",
     "output_type": "stream",
     "text": [
      "Please enter your selection 1/2/3/4/9 1\n"
     ]
    },
    {
     "name": "stdout",
     "output_type": "stream",
     "text": [
      "Moving to find public key\n",
      "*******\n"
     ]
    },
    {
     "name": "stdin",
     "output_type": "stream",
     "text": [
      "Please input your first prime number (p) 101\n",
      "Please input your second and different prime number (q) 103\n"
     ]
    },
    {
     "name": "stdout",
     "output_type": "stream",
     "text": [
      "public key found!\n",
      "*******\n",
      "n = 10403 e =  10129\n"
     ]
    },
    {
     "name": "stdin",
     "output_type": "stream",
     "text": [
      "Please enter your selection 1/2/3/4/9 2\n"
     ]
    },
    {
     "name": "stdout",
     "output_type": "stream",
     "text": [
      "Moving to find private key\n",
      "*******\n"
     ]
    },
    {
     "name": "stdin",
     "output_type": "stream",
     "text": [
      "Please input e from public key 10129\n",
      "Please input the first prime (p) from the public key creation 101\n",
      "Please input the second prime (q) from the public key creation 103\n"
     ]
    },
    {
     "name": "stdout",
     "output_type": "stream",
     "text": [
      "private key found!\n",
      "*******\n",
      "d = 9769\n"
     ]
    },
    {
     "name": "stdin",
     "output_type": "stream",
     "text": [
      "Please enter your selection 1/2/3/4/9 3\n"
     ]
    },
    {
     "name": "stdout",
     "output_type": "stream",
     "text": [
      "Moving to encode message\n",
      "*******\n"
     ]
    },
    {
     "name": "stdin",
     "output_type": "stream",
     "text": [
      "Please input n from public key 10403\n",
      "Please input e from public key 10129\n",
      "Please type the message you wish to encrypt Hello beautiful world!\n"
     ]
    },
    {
     "name": "stdout",
     "output_type": "stream",
     "text": [
      "message has been encrypted!\n",
      "*******\n",
      "Your encoded message is: [7961, 9393, 6941, 6941, 9201, 7111, 1917, 9393, 1973, 1300, 7310, 8632, 102, 1300, 6941, 7111, 4882, 9201, 6688, 6941, 7271, 324]\n"
     ]
    },
    {
     "name": "stdin",
     "output_type": "stream",
     "text": [
      "Please enter your selection 1/2/3/4/9 4\n"
     ]
    },
    {
     "name": "stdout",
     "output_type": "stream",
     "text": [
      "Moving to decode message\n",
      "*******\n"
     ]
    }
   ],
   "source": [
    "\n",
    "def main():\n",
    "    print(\"Welcome to RSA encryption and decryption!\")\n",
    "    print(\"Please make yourselection:\")\n",
    "    print(\"0 = nothing\\n1 = find public key\\n2 = find private key\\n3 = encode message\\n4 = decode message\\n9 = quit\")\n",
    "    option = 0\n",
    "    # 0 = nothing\n",
    "    # 1 = find public key\n",
    "    # 2 = find private key\n",
    "    # 3 = encode message\n",
    "    # 4 = decode message\n",
    "    # 9 = quit\n",
    "    while(option != 9):\n",
    "        option = input(\"Please enter your selection 1/2/3/4/9\")\n",
    "        match int(option):\n",
    "            case 1:\n",
    "                print(\"Moving to find public key\\n*******\")\n",
    "                findPublicKey()\n",
    "            case 2:\n",
    "                print(\"Moving to find private key\\n*******\")\n",
    "                findPrivateKey()\n",
    "            case 3:\n",
    "                print(\"Moving to encode message\\n*******\")\n",
    "                encodeMessage()\n",
    "            case 4:\n",
    "                print(\"Moving to decode message\\n*******\")\n",
    "                decodeMessage()\n",
    "            case 9:\n",
    "                print(\"Quitting...\")\n",
    "            case _:\n",
    "                print(\"Please enter a valid input\")\n",
    "                \n",
    "    return\n",
    "\n",
    "main()\n"
   ]
  },
  {
   "cell_type": "markdown",
   "metadata": {},
   "source": [
    "**Please use the grading guide below to self grade your Custom Feature.**\n",
    "\n",
    "GRADING FOR CUSTOM FEATURE:\n",
    "\n",
    "15 pts  Wow.  It is amazing.\n",
    "        Shows initiative and originality. \n",
    "        You did something extra special and pushed yourself.\n",
    "        You went beyond all expectations \n",
    "        You broke the rules in a creative way. \n",
    "        Your coding and commenting is exceptional.\n",
    "        Excellent \n",
    "\n",
    "10 - 14 points - It is GOOD! \n",
    "        You were a “self starter.” \n",
    "         You did everything  requested. \n",
    "        All expectations met. \n",
    "       \tYou did a very good job. \n",
    "        Good use of commenting.\n",
    "        Shows mastery of skills.\n",
    "\n",
    "5 -10 points  - Okay.\n",
    "        Minimum requirements.\n",
    "        Commenting weak.\n",
    "\n",
    "0 -5 points - It is not finished. \n",
    "          Does meet objectives. \n",
    "            Did not follow directions. \n",
    "            Chose not to do this part (which is a totally fine choice)\n"
   ]
  },
  {
   "cell_type": "markdown",
   "metadata": {},
   "source": [
    "## Self grading of custom feature ##\n",
    "\n",
    "Here in this block, please rate what score out of 15 your custom feature merits given the criteria above:\n",
    "\n",
    "* For example, if you are brand new to programming, using a main function could be an amazing feature - tell me how this helped you move to a new level.\n",
    "* In what ways did you push yourself? Did you try something you've never done before?\n",
    "* Alternatively, if you just did not have the time to do the custum feature, that is actually just fine and a reasonable choice for an adult. No judgment."
   ]
  },
  {
   "cell_type": "markdown",
   "metadata": {},
   "source": [
    "15 pts\n",
    "\n",
    "I think I would score myself this because I am still new to coding and took a lot of time to learn to implement this code by myself. It was challenging to debug this code, especially because the int and list functions were not working the same way as they were outside of my main function. I really tried to push myself to do well, and I am really proud of how much time and dedication this took me. "
   ]
  }
 ],
 "metadata": {
  "kernelspec": {
   "display_name": "Python 3 (ipykernel)",
   "language": "python",
   "name": "python3"
  },
  "language_info": {
   "codemirror_mode": {
    "name": "ipython",
    "version": 3
   },
   "file_extension": ".py",
   "mimetype": "text/x-python",
   "name": "python",
   "nbconvert_exporter": "python",
   "pygments_lexer": "ipython3",
   "version": "3.10.8"
  }
 },
 "nbformat": 4,
 "nbformat_minor": 4
}
